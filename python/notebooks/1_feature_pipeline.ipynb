{
 "cells": [
  {
   "cell_type": "markdown",
   "id": "6e422d9d",
   "metadata": {
    "tags": []
   },
   "source": [
    "This is the first part of the quick start series of tutorials about Hopsworks Feature Store. As part of this first module, you will work with data related to credit card transactions. \n",
    "The objective of this tutorial is to demonstrate how to work with the **Hopworks Feature Store**  for online data with a goal of training and deploying a model that can predict fraudulent transactions."
   ]
  },
  {
   "cell_type": "markdown",
   "id": "c95019b7",
   "metadata": {},
   "source": [
    "## <span style='color:#ff5f27'> 📝 Imports"
   ]
  },
  {
   "cell_type": "code",
   "execution_count": 6,
   "id": "67393104",
   "metadata": {},
   "outputs": [],
   "source": [
    "import hopsworks\n",
    "\n",
    "import great_expectations as ge\n",
    "from great_expectations.core import ExpectationSuite, ExpectationConfiguration\n",
    "\n",
    "from mlopstemplate.features import transactions, profile\n",
    "from mlopstemplate.synthetic_data import synthetic_data\n",
    "from mlopstemplate.synthetic_data.data_sources import get_datasets"
   ]
  },
  {
   "cell_type": "markdown",
   "id": "7da6f2d0",
   "metadata": {},
   "source": [
    "First of all you will load the data and do some feature engineering on it."
   ]
  },
  {
   "cell_type": "markdown",
   "id": "c3a9309d",
   "metadata": {},
   "source": [
    "## <span style=\"color:#ff5f27;\"> 💽 Loading the Data </span>\n",
    "\n",
    "The data you will use comes from 2 different CSV files:\n",
    "\n",
    "- `transactions.csv`: events containing information about when a credit card was used, such as a timestamp, location, and the amount spent. A boolean fraud_label variable (True/False) tells us whether a transaction was fraudulent or not.\n",
    "- `profiles.csv`: credit card user information such as birthdate and city of residence.\n",
    "\n",
    "In a production system, these CSV files would originate from separate data sources or tables, and probably separate data pipelines. **These files have a common credit card number column cc_num, which you will use later to join features together from the different datasets.**\n",
    "\n",
    "Now, you can go ahead and load the data."
   ]
  },
  {
   "cell_type": "code",
   "execution_count": 2,
   "id": "30237a98",
   "metadata": {},
   "outputs": [],
   "source": [
    "# get data from the source\n",
    "trans_df, labels_df, profiles_df = get_datasets()"
   ]
  },
  {
   "cell_type": "markdown",
   "id": "8b209224",
   "metadata": {},
   "source": [
    "---"
   ]
  },
  {
   "cell_type": "markdown",
   "id": "ca79b261",
   "metadata": {},
   "source": [
    "## <span style=\"color:#ff5f27;\"> 🛠️ Feature Engineering </span>\n",
    "\n",
    "Fraudulent transactions can differ from regular ones in many different ways. Typical red flags would for instance be a large transaction volume/frequency in the span of a few hours. It could also be the case that elderly people in particular are targeted by fraudsters. To facilitate model learning you will create additional features based on these patterns. In particular, you will create two types of features:\n",
    "1. **Features that aggregate data from different data sources**. This could for instance be the age of a customer at the time of a transaction, which combines the `birthdate` feature from `profiles.csv` with the `datetime` feature from `transactions.csv`.\n",
    "2. **Features that aggregate data from multiple time steps**. An example of this could be the transaction frequency of a credit card in the span of a few hours, which is computed using a window function.\n",
    "\n",
    "Let's start with the first category."
   ]
  },
  {
   "cell_type": "markdown",
   "id": "320fd248",
   "metadata": {},
   "source": [
    "Now you are ready to start by computing the distance between consecutive transactions, lets call it `loc_delta`.\n",
    "Here you will use the [Haversine distance](https://scikit-learn.org/stable/modules/generated/sklearn.metrics.pairwise.haversine_distances.html?highlight=haversine#sklearn.metrics.pairwise.haversine_distances) to quantify the distance between two longitude and latitude coordinates."
   ]
  },
  {
   "cell_type": "code",
   "execution_count": 3,
   "id": "5d5f7c8a",
   "metadata": {},
   "outputs": [],
   "source": [
    "# compute profile features\n",
    "# select final features\n",
    "profiles_df = profile.select_features(profiles_df)"
   ]
  },
  {
   "cell_type": "code",
   "execution_count": 4,
   "id": "8df82dac",
   "metadata": {},
   "outputs": [],
   "source": [
    "# Compute transaction features\n",
    "\n",
    "# compute previous location of the transaction\n",
    "trans_df = transactions.loc_delta_t_minus_1(trans_df)\n",
    "\n",
    "# Computes time difference between current and previous transaction\n",
    "trans_df = transactions.time_delta_t_minus_1(trans_df)\n",
    "\n",
    "# Compute year and month string from datetime column.\n",
    "trans_df[\"month\"] = transactions.get_year_month(trans_df.datetime)\n",
    "\n",
    "# compute on demand features\n",
    "# customer's age at transaction\n",
    "trans_df = transactions.card_owner_age(trans_df, profiles_df)\n",
    "\n",
    "# days untill card expires at the time of transaction\n",
    "trans_df = transactions.expiry_days(trans_df, profiles_df)\n"
   ]
  },
  {
   "cell_type": "code",
   "execution_count": 5,
   "id": "fb9026e1",
   "metadata": {},
   "outputs": [],
   "source": [
    "# labels\n",
    "labels_df[\"month\"] = transactions.get_year_month(labels_df.datetime)"
   ]
  },
  {
   "cell_type": "markdown",
   "id": "cc7e2e2a",
   "metadata": {},
   "source": [
    "## <span style=\"color:#ff5f27;\"> Great Expectations </span>\n"
   ]
  },
  {
   "cell_type": "code",
   "execution_count": 7,
   "id": "350907b4",
   "metadata": {},
   "outputs": [
    {
     "name": "stdout",
     "output_type": "stream",
     "text": [
      "2023-10-21 20:16:14,922 INFO: \t0 expectation(s) included in expectation_suite.\n",
      "{\n",
      "  \"expectations\": [],\n",
      "  \"data_asset_type\": \"Dataset\",\n",
      "  \"meta\": {\n",
      "    \"great_expectations_version\": \"0.15.12\"\n",
      "  },\n",
      "  \"expectation_suite_name\": \"transaction_suite\",\n",
      "  \"ge_cloud_id\": null\n",
      "}\n"
     ]
    }
   ],
   "source": [
    "ge_trans_df = ge.from_pandas(trans_df)\n",
    "\n",
    "expectation_suite_trans = ge_trans_df.get_expectation_suite()\n",
    "expectation_suite_trans.expectation_suite_name = \"transaction_suite\"\n",
    "print(expectation_suite_trans)\n"
   ]
  },
  {
   "cell_type": "code",
   "execution_count": 8,
   "id": "fae40e57",
   "metadata": {},
   "outputs": [
    {
     "name": "stdout",
     "output_type": "stream",
     "text": [
      "2023-10-21 20:16:19,686 INFO: \t5 expectation(s) included in expectation_suite.\n"
     ]
    }
   ],
   "source": [
    "# Check for errors which could lead to technical issues\n",
    "expectation_suite_trans.add_expectation(\n",
    "    ExpectationConfiguration(\n",
    "        expectation_type=\"expect_column_values_to_be_unique\",\n",
    "        kwargs={\"column\":\"tid\", \"result_format\":\"COMPLETE\"}\n",
    "    )\n",
    ")\n",
    "\n",
    "# Assess data correctness\n",
    "expectation_suite_trans.add_expectation(\n",
    "    ExpectationConfiguration(\n",
    "        expectation_type=\"expect_column_min_to_be_between\",\n",
    "        kwargs={\n",
    "            \"column\":\"amount\",\n",
    "            \"min_value\": 0\n",
    "        }\n",
    "    )\n",
    ")\n",
    "\n",
    "expectation_suite_trans.add_expectation(\n",
    "    ExpectationConfiguration(\n",
    "        expectation_type=\"expect_column_min_to_be_between\",\n",
    "        kwargs={\n",
    "            \"column\":\"age_at_transaction\",\n",
    "            \"min_value\": 17,\n",
    "            \"max_value\": 101\n",
    "        }\n",
    "    )\n",
    ")\n",
    "\n",
    "#monitor data statistics and quality, e.g number of null values\n",
    "expectation_suite_trans.add_expectation(\n",
    "    ExpectationConfiguration(\n",
    "      expectation_type=\"expect_column_mean_to_be_between\",\n",
    "      kwargs={\"column\":\"age_at_transaction\", \"min_value\": 55, \"max_value\": 70}\n",
    "    )\n",
    ")\n",
    "\n",
    "expectation_suite_trans.add_expectation(\n",
    "    ExpectationConfiguration(\n",
    "        expectation_type=\"expect_column_values_to_not_be_null\",\n",
    "        kwargs={\"column\":\"category\"}\n",
    "    )\n",
    ")\n",
    "\n",
    "ge_trans_df = ge.from_pandas(trans_df, expectation_suite=expectation_suite_trans)\n",
    "\n",
    "validation_report_trans = ge_trans_df.validate()"
   ]
  },
  {
   "cell_type": "code",
   "execution_count": 9,
   "id": "c26b41dd",
   "metadata": {},
   "outputs": [
    {
     "data": {
      "text/plain": [
       "{\n",
       "  \"evaluation_parameters\": {},\n",
       "  \"meta\": {\n",
       "    \"great_expectations_version\": \"0.15.12\",\n",
       "    \"expectation_suite_name\": \"transaction_suite\",\n",
       "    \"run_id\": {\n",
       "      \"run_time\": \"2023-10-21T20:16:19.686401+00:00\",\n",
       "      \"run_name\": null\n",
       "    },\n",
       "    \"batch_kwargs\": {\n",
       "      \"ge_batch_id\": \"b256bdc6-704e-11ee-b70f-06e8b8b59184\"\n",
       "    },\n",
       "    \"batch_markers\": {},\n",
       "    \"batch_parameters\": {},\n",
       "    \"validation_time\": \"20231021T201619.686326Z\",\n",
       "    \"expectation_suite_meta\": {\n",
       "      \"great_expectations_version\": \"0.15.12\"\n",
       "    }\n",
       "  },\n",
       "  \"results\": [\n",
       "    {\n",
       "      \"result\": {\n",
       "        \"element_count\": 71322,\n",
       "        \"missing_count\": 0,\n",
       "        \"missing_percent\": 0.0,\n",
       "        \"unexpected_count\": 0,\n",
       "        \"unexpected_percent\": 0.0,\n",
       "        \"unexpected_percent_total\": 0.0,\n",
       "        \"unexpected_percent_nonmissing\": 0.0,\n",
       "        \"partial_unexpected_list\": [],\n",
       "        \"partial_unexpected_index_list\": [],\n",
       "        \"partial_unexpected_counts\": [],\n",
       "        \"unexpected_list\": [],\n",
       "        \"unexpected_index_list\": []\n",
       "      },\n",
       "      \"exception_info\": {\n",
       "        \"raised_exception\": false,\n",
       "        \"exception_message\": null,\n",
       "        \"exception_traceback\": null\n",
       "      },\n",
       "      \"meta\": {},\n",
       "      \"success\": true,\n",
       "      \"expectation_config\": {\n",
       "        \"kwargs\": {\n",
       "          \"column\": \"tid\",\n",
       "          \"result_format\": \"COMPLETE\"\n",
       "        },\n",
       "        \"expectation_type\": \"expect_column_values_to_be_unique\",\n",
       "        \"meta\": {}\n",
       "      }\n",
       "    },\n",
       "    {\n",
       "      \"result\": {\n",
       "        \"observed_value\": 0.01,\n",
       "        \"element_count\": 71322,\n",
       "        \"missing_count\": null,\n",
       "        \"missing_percent\": null\n",
       "      },\n",
       "      \"exception_info\": {\n",
       "        \"raised_exception\": false,\n",
       "        \"exception_message\": null,\n",
       "        \"exception_traceback\": null\n",
       "      },\n",
       "      \"meta\": {},\n",
       "      \"success\": true,\n",
       "      \"expectation_config\": {\n",
       "        \"kwargs\": {\n",
       "          \"column\": \"amount\",\n",
       "          \"min_value\": 0\n",
       "        },\n",
       "        \"expectation_type\": \"expect_column_min_to_be_between\",\n",
       "        \"meta\": {}\n",
       "      }\n",
       "    },\n",
       "    {\n",
       "      \"result\": {\n",
       "        \"observed_value\": 17.553017794620978,\n",
       "        \"element_count\": 71322,\n",
       "        \"missing_count\": null,\n",
       "        \"missing_percent\": null\n",
       "      },\n",
       "      \"exception_info\": {\n",
       "        \"raised_exception\": false,\n",
       "        \"exception_message\": null,\n",
       "        \"exception_traceback\": null\n",
       "      },\n",
       "      \"meta\": {},\n",
       "      \"success\": true,\n",
       "      \"expectation_config\": {\n",
       "        \"kwargs\": {\n",
       "          \"column\": \"age_at_transaction\",\n",
       "          \"min_value\": 17,\n",
       "          \"max_value\": 101\n",
       "        },\n",
       "        \"expectation_type\": \"expect_column_min_to_be_between\",\n",
       "        \"meta\": {}\n",
       "      }\n",
       "    },\n",
       "    {\n",
       "      \"result\": {\n",
       "        \"observed_value\": 61.265303543972635,\n",
       "        \"element_count\": 71322,\n",
       "        \"missing_count\": null,\n",
       "        \"missing_percent\": null\n",
       "      },\n",
       "      \"exception_info\": {\n",
       "        \"raised_exception\": false,\n",
       "        \"exception_message\": null,\n",
       "        \"exception_traceback\": null\n",
       "      },\n",
       "      \"meta\": {},\n",
       "      \"success\": true,\n",
       "      \"expectation_config\": {\n",
       "        \"kwargs\": {\n",
       "          \"column\": \"age_at_transaction\",\n",
       "          \"min_value\": 55,\n",
       "          \"max_value\": 70\n",
       "        },\n",
       "        \"expectation_type\": \"expect_column_mean_to_be_between\",\n",
       "        \"meta\": {}\n",
       "      }\n",
       "    },\n",
       "    {\n",
       "      \"result\": {\n",
       "        \"element_count\": 71322,\n",
       "        \"unexpected_count\": 0,\n",
       "        \"unexpected_percent\": 0.0,\n",
       "        \"unexpected_percent_total\": 0.0,\n",
       "        \"partial_unexpected_list\": []\n",
       "      },\n",
       "      \"exception_info\": {\n",
       "        \"raised_exception\": false,\n",
       "        \"exception_message\": null,\n",
       "        \"exception_traceback\": null\n",
       "      },\n",
       "      \"meta\": {},\n",
       "      \"success\": true,\n",
       "      \"expectation_config\": {\n",
       "        \"kwargs\": {\n",
       "          \"column\": \"category\"\n",
       "        },\n",
       "        \"expectation_type\": \"expect_column_values_to_not_be_null\",\n",
       "        \"meta\": {}\n",
       "      }\n",
       "    }\n",
       "  ],\n",
       "  \"success\": true,\n",
       "  \"statistics\": {\n",
       "    \"evaluated_expectations\": 5,\n",
       "    \"successful_expectations\": 5,\n",
       "    \"unsuccessful_expectations\": 0,\n",
       "    \"success_percent\": 100.0\n",
       "  }\n",
       "}"
      ]
     },
     "execution_count": 9,
     "metadata": {},
     "output_type": "execute_result"
    }
   ],
   "source": [
    "validation_report_trans"
   ]
  },
  {
   "cell_type": "code",
   "execution_count": 10,
   "id": "10345fd1",
   "metadata": {},
   "outputs": [
    {
     "data": {
      "application/vnd.jupyter.widget-view+json": {
       "model_id": "b448d39a0be24c099c81b4769ec38b60",
       "version_major": 2,
       "version_minor": 0
      },
      "text/plain": [
       "Profiling Columns:   0%|          | 0/14 [00:00<?, ?it/s, tid]"
      ]
     },
     "metadata": {},
     "output_type": "display_data"
    },
    {
     "name": "stderr",
     "output_type": "stream",
     "text": [
      "DeprecationWarning: DataAsset.remove_expectations is deprecated as of v0.12.0 and will be removed in v0.16. Please use ExpectationSuite.remove_expectation instead.\n",
      "DeprecationWarning: DataAsset.remove_expectations is deprecated as of v0.12.0 and will be removed in v0.16. Please use ExpectationSuite.remove_expectation instead.\n",
      "DeprecationWarning: DataAsset.remove_expectations is deprecated as of v0.12.0 and will be removed in v0.16. Please use ExpectationSuite.remove_expectation instead.\n",
      "DeprecationWarning: DataAsset.remove_expectations is deprecated as of v0.12.0 and will be removed in v0.16. Please use ExpectationSuite.remove_expectation instead.\n",
      "DeprecationWarning: DataAsset.remove_expectations is deprecated as of v0.12.0 and will be removed in v0.16. Please use ExpectationSuite.remove_expectation instead.\n",
      "DeprecationWarning: DataAsset.remove_expectations is deprecated as of v0.12.0 and will be removed in v0.16. Please use ExpectationSuite.remove_expectation instead.\n",
      "DeprecationWarning: DataAsset.remove_expectations is deprecated as of v0.12.0 and will be removed in v0.16. Please use ExpectationSuite.remove_expectation instead.\n",
      "DeprecationWarning: DataAsset.remove_expectations is deprecated as of v0.12.0 and will be removed in v0.16. Please use ExpectationSuite.remove_expectation instead.\n",
      "DeprecationWarning: DataAsset.remove_expectations is deprecated as of v0.12.0 and will be removed in v0.16. Please use ExpectationSuite.remove_expectation instead.\n",
      "DeprecationWarning: DataAsset.remove_expectations is deprecated as of v0.12.0 and will be removed in v0.16. Please use ExpectationSuite.remove_expectation instead.\n",
      "DeprecationWarning: DataAsset.remove_expectations is deprecated as of v0.12.0 and will be removed in v0.16. Please use ExpectationSuite.remove_expectation instead.\n",
      "DeprecationWarning: DataAsset.remove_expectations is deprecated as of v0.12.0 and will be removed in v0.16. Please use ExpectationSuite.remove_expectation instead.\n"
     ]
    },
    {
     "name": "stdout",
     "output_type": "stream",
     "text": [
      "2023-10-21 20:17:45,824 INFO: \t76 expectation(s) included in expectation_suite.\n"
     ]
    },
    {
     "name": "stderr",
     "output_type": "stream",
     "text": [
      "DeprecationWarning: DataAsset.remove_expectations is deprecated as of v0.12.0 and will be removed in v0.16. Please use ExpectationSuite.remove_expectation instead.\n",
      "DeprecationWarning: DataAsset.remove_expectations is deprecated as of v0.12.0 and will be removed in v0.16. Please use ExpectationSuite.remove_expectation instead.\n"
     ]
    },
    {
     "name": "stdout",
     "output_type": "stream",
     "text": [
      "2023-10-21 20:17:46,259 INFO: \t68 expectation(s) included in expectation_suite. Omitting 8 expectation(s) that failed when last run; set discard_failed_expectations=False to include them. result_format settings filtered.\n",
      "The suite contains 76 expectations for 14 columns. See sample below\n",
      "{\n",
      "  \"expectations\": [\n",
      "    {\n",
      "      \"kwargs\": {\n",
      "        \"column\": \"tid\"\n",
      "      },\n",
      "      \"expectation_type\": \"expect_column_values_to_be_unique\",\n",
      "      \"meta\": {}\n",
      "    },\n",
      "    {\n",
      "      \"kwargs\": {\n",
      "        \"column\": \"amount\",\n",
      "        \"min_value\": -0.99,\n",
      "        \"max_value\": 1.01\n",
      "      },\n",
      "      \"expectation_type\": \"expect_column_min_to_be_between\",\n",
      "      \"meta\": {}\n",
      "    },\n",
      "    {\n",
      "      \"kwargs\": {\n",
      "        \"column\": \"age_at_transaction\",\n",
      "        \"min_value\": 16.5\n"
     ]
    }
   ],
   "source": [
    "#Generate an Expectation Suite from your data using Great Expectations Profiler\n",
    "#For complex DataFrames, Great Expectations offers a profiler which generates a basic expectation suite tailored to your data. You can then use this suite as you would any other expectation suite with Hopsworks.\n",
    "\n",
    "# ignore deprecation warnings\n",
    "expectation_suite_profiled, validation_report = ge_trans_df.profile(profiler=ge.profile.BasicSuiteBuilderProfiler)\n",
    "\n",
    "print(f\"The suite contains {len(expectation_suite_profiled['expectations'])} expectations for {len(trans_df.columns.values)} columns. See sample below\\n\" + ge_trans_df.get_expectation_suite().__repr__()[:455])\n",
    "\n",
    "#Note that you cannot register the report generated by the profiler as the suite was not registered with Hopsworks before the validation was run.\n",
    "\n"
   ]
  },
  {
   "cell_type": "markdown",
   "id": "4e013cdc",
   "metadata": {},
   "source": [
    "## <span style=\"color:#ff5f27;\"> 📡 Connecting to Hopsworks Feature Store </span>"
   ]
  },
  {
   "cell_type": "markdown",
   "id": "0c228056",
   "metadata": {},
   "source": [
    "### <span style=\"color:#ff5f27;\"> 🪄 Creating Feature Groups </span>\n",
    "\n",
    "A [feature group](https://docs.hopsworks.ai/3.0/concepts/fs/feature_group/fg_overview/) can be seen as a collection of conceptually related features. In this case, you will create a feature group for the transaction data and a feature group for the windowed aggregations on the transaction data. Both will have `cc_num` as primary key, which will allow you to join them when creating a dataset in the next tutorial.\n",
    "\n",
    "Feature groups can also be used to define a namespace for features. For instance, in a real-life setting you would likely want to experiment with different window lengths. In that case, you can create feature groups with identical schema for each window length. \n",
    "\n",
    "Before you can create a feature group you need to connect to Hopsworks feature store."
   ]
  },
  {
   "cell_type": "code",
   "execution_count": 11,
   "id": "1d58d478",
   "metadata": {},
   "outputs": [
    {
     "name": "stdout",
     "output_type": "stream",
     "text": [
      "Connected. Call `.close()` to terminate connection gracefully.\n",
      "\n",
      "Logged in to project, explore it here https://63fce2f0-6ea9-11ee-94f8-f759e1f32264.cloud.hopsworks.ai/p/119\n",
      "Connected. Call `.close()` to terminate connection gracefully.\n"
     ]
    }
   ],
   "source": [
    "import hopsworks\n",
    "\n",
    "project = hopsworks.login()\n",
    "fs = project.get_feature_store()"
   ]
  },
  {
   "cell_type": "markdown",
   "id": "8bd90973",
   "metadata": {},
   "source": [
    "To create a feature group you need to give it a name and specify a primary key. It is also good to provide a description of the contents of the feature group and a version number, if it is not defined it will automatically be incremented to `1`."
   ]
  },
  {
   "cell_type": "code",
   "execution_count": 13,
   "id": "1491229c",
   "metadata": {},
   "outputs": [],
   "source": [
    "# get or create feature group\n",
    "trans_fg = fs.get_or_create_feature_group(\n",
    "    name=\"transactions\",\n",
    "    version=1,\n",
    "    description=\"Transaction data\",\n",
    "    primary_key=['cc_num'],\n",
    "    event_time='datetime',\n",
    "    partition_key=['month'],\n",
    "    stream=True,\n",
    "    online_enabled=True\n",
    ")"
   ]
  },
  {
   "cell_type": "code",
   "execution_count": 14,
   "id": "420fd0b4",
   "metadata": {},
   "outputs": [
    {
     "name": "stdout",
     "output_type": "stream",
     "text": [
      "Feature Group created successfully, explore it at \n",
      "https://63fce2f0-6ea9-11ee-94f8-f759e1f32264.cloud.hopsworks.ai/p/119/fs/67/fg/13\n",
      "2023-10-21 20:19:04,029 INFO: \t5 expectation(s) included in expectation_suite.\n",
      "Validation succeeded.\n",
      "Validation Report saved successfully, explore a summary at https://63fce2f0-6ea9-11ee-94f8-f759e1f32264.cloud.hopsworks.ai/p/119/fs/67/fg/13\n"
     ]
    },
    {
     "data": {
      "application/vnd.jupyter.widget-view+json": {
       "model_id": "21c40f573de444189d8b500504b254c6",
       "version_major": 2,
       "version_minor": 0
      },
      "text/plain": [
       "Uploading Dataframe: 0.00% |          | Rows 0/71322 | Elapsed Time: 00:00 | Remaining Time: ?"
      ]
     },
     "metadata": {},
     "output_type": "display_data"
    },
    {
     "name": "stdout",
     "output_type": "stream",
     "text": [
      "Launching job: transactions_1_offline_fg_materialization\n",
      "Job started successfully, you can follow the progress at \n",
      "https://63fce2f0-6ea9-11ee-94f8-f759e1f32264.cloud.hopsworks.ai/p/119/jobs/named/transactions_1_offline_fg_materialization/executions\n"
     ]
    },
    {
     "data": {
      "text/plain": [
       "(<hsfs.core.job.Job at 0x7fb9dc723ee0>,\n",
       " {\n",
       "   \"evaluation_parameters\": {},\n",
       "   \"meta\": {\n",
       "     \"great_expectations_version\": \"0.15.12\",\n",
       "     \"expectation_suite_name\": \"transaction_suite\",\n",
       "     \"run_id\": {\n",
       "       \"run_time\": \"2023-10-21T20:19:04.029520+00:00\",\n",
       "       \"run_name\": null\n",
       "     },\n",
       "     \"batch_kwargs\": {\n",
       "       \"ge_batch_id\": \"144b9632-704f-11ee-b70f-06e8b8b59184\"\n",
       "     },\n",
       "     \"batch_markers\": {},\n",
       "     \"batch_parameters\": {},\n",
       "     \"validation_time\": \"20231021T201904.029435Z\",\n",
       "     \"expectation_suite_meta\": {\n",
       "       \"great_expectations_version\": \"0.15.12\"\n",
       "     }\n",
       "   },\n",
       "   \"results\": [\n",
       "     {\n",
       "       \"result\": {\n",
       "         \"element_count\": 71322,\n",
       "         \"unexpected_count\": 0,\n",
       "         \"unexpected_percent\": 0.0,\n",
       "         \"unexpected_percent_total\": 0.0,\n",
       "         \"partial_unexpected_list\": []\n",
       "       },\n",
       "       \"exception_info\": {\n",
       "         \"raised_exception\": false,\n",
       "         \"exception_message\": null,\n",
       "         \"exception_traceback\": null\n",
       "       },\n",
       "       \"meta\": {\n",
       "         \"ingestionResult\": \"INGESTED\",\n",
       "         \"validationTime\": \"2023-10-21T08:19:04.000029Z\"\n",
       "       },\n",
       "       \"success\": true,\n",
       "       \"expectation_config\": {\n",
       "         \"kwargs\": {\n",
       "           \"column\": \"category\"\n",
       "         },\n",
       "         \"expectation_type\": \"expect_column_values_to_not_be_null\",\n",
       "         \"meta\": {\n",
       "           \"expectationId\": 1\n",
       "         }\n",
       "       }\n",
       "     },\n",
       "     {\n",
       "       \"result\": {\n",
       "         \"element_count\": 71322,\n",
       "         \"missing_count\": 0,\n",
       "         \"missing_percent\": 0.0,\n",
       "         \"unexpected_count\": 0,\n",
       "         \"unexpected_percent\": 0.0,\n",
       "         \"unexpected_percent_total\": 0.0,\n",
       "         \"unexpected_percent_nonmissing\": 0.0,\n",
       "         \"partial_unexpected_list\": [],\n",
       "         \"partial_unexpected_index_list\": [],\n",
       "         \"partial_unexpected_counts\": [],\n",
       "         \"unexpected_list\": [],\n",
       "         \"unexpected_index_list\": []\n",
       "       },\n",
       "       \"exception_info\": {\n",
       "         \"raised_exception\": false,\n",
       "         \"exception_message\": null,\n",
       "         \"exception_traceback\": null\n",
       "       },\n",
       "       \"meta\": {\n",
       "         \"ingestionResult\": \"INGESTED\",\n",
       "         \"validationTime\": \"2023-10-21T08:19:04.000029Z\"\n",
       "       },\n",
       "       \"success\": true,\n",
       "       \"expectation_config\": {\n",
       "         \"kwargs\": {\n",
       "           \"column\": \"tid\",\n",
       "           \"result_format\": \"COMPLETE\"\n",
       "         },\n",
       "         \"expectation_type\": \"expect_column_values_to_be_unique\",\n",
       "         \"meta\": {\n",
       "           \"expectationId\": 4\n",
       "         }\n",
       "       }\n",
       "     },\n",
       "     {\n",
       "       \"result\": {\n",
       "         \"observed_value\": 17.553017794620978,\n",
       "         \"element_count\": 71322,\n",
       "         \"missing_count\": null,\n",
       "         \"missing_percent\": null\n",
       "       },\n",
       "       \"exception_info\": {\n",
       "         \"raised_exception\": false,\n",
       "         \"exception_message\": null,\n",
       "         \"exception_traceback\": null\n",
       "       },\n",
       "       \"meta\": {\n",
       "         \"ingestionResult\": \"INGESTED\",\n",
       "         \"validationTime\": \"2023-10-21T08:19:04.000029Z\"\n",
       "       },\n",
       "       \"success\": true,\n",
       "       \"expectation_config\": {\n",
       "         \"kwargs\": {\n",
       "           \"column\": \"age_at_transaction\",\n",
       "           \"min_value\": 17,\n",
       "           \"max_value\": 101\n",
       "         },\n",
       "         \"expectation_type\": \"expect_column_min_to_be_between\",\n",
       "         \"meta\": {\n",
       "           \"expectationId\": 5\n",
       "         }\n",
       "       }\n",
       "     },\n",
       "     {\n",
       "       \"result\": {\n",
       "         \"observed_value\": 61.265303543972635,\n",
       "         \"element_count\": 71322,\n",
       "         \"missing_count\": null,\n",
       "         \"missing_percent\": null\n",
       "       },\n",
       "       \"exception_info\": {\n",
       "         \"raised_exception\": false,\n",
       "         \"exception_message\": null,\n",
       "         \"exception_traceback\": null\n",
       "       },\n",
       "       \"meta\": {\n",
       "         \"ingestionResult\": \"INGESTED\",\n",
       "         \"validationTime\": \"2023-10-21T08:19:04.000029Z\"\n",
       "       },\n",
       "       \"success\": true,\n",
       "       \"expectation_config\": {\n",
       "         \"kwargs\": {\n",
       "           \"column\": \"age_at_transaction\",\n",
       "           \"min_value\": 55,\n",
       "           \"max_value\": 70\n",
       "         },\n",
       "         \"expectation_type\": \"expect_column_mean_to_be_between\",\n",
       "         \"meta\": {\n",
       "           \"expectationId\": 3\n",
       "         }\n",
       "       }\n",
       "     },\n",
       "     {\n",
       "       \"result\": {\n",
       "         \"observed_value\": 0.01,\n",
       "         \"element_count\": 71322,\n",
       "         \"missing_count\": null,\n",
       "         \"missing_percent\": null\n",
       "       },\n",
       "       \"exception_info\": {\n",
       "         \"raised_exception\": false,\n",
       "         \"exception_message\": null,\n",
       "         \"exception_traceback\": null\n",
       "       },\n",
       "       \"meta\": {\n",
       "         \"ingestionResult\": \"INGESTED\",\n",
       "         \"validationTime\": \"2023-10-21T08:19:04.000029Z\"\n",
       "       },\n",
       "       \"success\": true,\n",
       "       \"expectation_config\": {\n",
       "         \"kwargs\": {\n",
       "           \"column\": \"amount\",\n",
       "           \"min_value\": 0\n",
       "         },\n",
       "         \"expectation_type\": \"expect_column_min_to_be_between\",\n",
       "         \"meta\": {\n",
       "           \"expectationId\": 2\n",
       "         }\n",
       "       }\n",
       "     }\n",
       "   ],\n",
       "   \"success\": true,\n",
       "   \"statistics\": {\n",
       "     \"evaluated_expectations\": 5,\n",
       "     \"successful_expectations\": 5,\n",
       "     \"unsuccessful_expectations\": 0,\n",
       "     \"success_percent\": 100.0\n",
       "   }\n",
       " })"
      ]
     },
     "execution_count": 14,
     "metadata": {},
     "output_type": "execute_result"
    }
   ],
   "source": [
    "# 4.Setup Automatic Validation On Insert and upload a DataFrame\n",
    "# Register the expectation suite corresponding to a Feature Group with the backend\n",
    "\n",
    "# The \"ALWAYS\" ingestion policy inserts data even when validation fails, \n",
    "# ideal to avoid data loss and rapid prototyping\n",
    "\n",
    "trans_fg.save_expectation_suite(expectation_suite_trans, validation_ingestion_policy=\"ALWAYS\")\n",
    "\n",
    "#Once the suite is registered in the backend, data validation will run on every insert without additional boilerplate. The suite is retrieved from the backend, used to validate the DataFrame and the resulting validation report uploaded. Depending on the ingestion policy and validation success, data are subsequently inserted in the Feature Group. The example below illustrate the \"ALWAYS\" use case where insertion is performed despite a validation failure.\n",
    "\n",
    "# materialize feature data in to the feature group\n",
    "trans_fg.insert(trans_df)"
   ]
  },
  {
   "cell_type": "markdown",
   "id": "5f187e6d",
   "metadata": {},
   "source": [
    "Here you have also set `online_enabled=True`, which enables low latency access to the data. A full list of arguments can be found in the [documentation](https://docs.hopsworks.ai/feature-store-api/latest/generated/api/feature_store_api/#create_feature_group)."
   ]
  },
  {
   "cell_type": "code",
   "execution_count": 29,
   "id": "9e87c234",
   "metadata": {},
   "outputs": [],
   "source": [
    "feature_descriptions = [\n",
    "    {\"name\": \"tid\", \"description\": \"Transaction id\"},\n",
    "    {\"name\": \"datetime\", \"description\": \"Transaction time\"},\n",
    "    {\"name\": \"cc_num\", \"description\": \"Number of the credit card performing the transaction\"},\n",
    "    {\"name\": \"category\", \"description\": \"Catetegory of item purchased\"},\n",
    "    {\"name\": \"amount\", \"description\": \"Dollar amount of the transaction\"},\n",
    "    {\"name\": \"latitude\", \"description\": \"latitude of the place where merchant or ATM is located\"},\n",
    "    {\"name\": \"longitude\", \"description\": \"longitude of the place where merchant or ATM is located\"},\n",
    "    {\"name\": \"city\", \"description\": \"latitude of the merchant or ATM\"},\n",
    "    {\"name\": \"country\", \"description\": \"Country in which the transaction was made\"},\n",
    "    {\"name\": \"loc_delta_t_minus_1\", \"description\": \"Location of previous transaction\"},\n",
    "    {\"name\": \"time_delta_t_minus_1\", \"description\": \"Time of previous transaction\"},    \n",
    "    {\"name\": \"month\", \"description\": \"Month of the transaction\"},    \n",
    "    {\"name\": \"age_at_transaction\", \"description\": \"Age of card holder at the time of transaction\"},\n",
    "    {\"name\": \"days_until_card_expires\", \"description\": \"Days left till card expires\"},\n",
    "]\n",
    "\n",
    "for desc in feature_descriptions: \n",
    "    trans_fg.update_feature_description(desc[\"name\"], desc[\"description\"])"
   ]
  },
  {
   "cell_type": "code",
   "execution_count": 28,
   "id": "16fd95fd",
   "metadata": {},
   "outputs": [
    {
     "data": {
      "text/html": [
       "<div>\n",
       "<style scoped>\n",
       "    .dataframe tbody tr th:only-of-type {\n",
       "        vertical-align: middle;\n",
       "    }\n",
       "\n",
       "    .dataframe tbody tr th {\n",
       "        vertical-align: top;\n",
       "    }\n",
       "\n",
       "    .dataframe thead th {\n",
       "        text-align: right;\n",
       "    }\n",
       "</style>\n",
       "<table border=\"1\" class=\"dataframe\">\n",
       "  <thead>\n",
       "    <tr style=\"text-align: right;\">\n",
       "      <th></th>\n",
       "      <th>tid</th>\n",
       "      <th>datetime</th>\n",
       "      <th>cc_num</th>\n",
       "      <th>category</th>\n",
       "      <th>amount</th>\n",
       "      <th>latitude</th>\n",
       "      <th>longitude</th>\n",
       "      <th>city</th>\n",
       "      <th>country</th>\n",
       "      <th>loc_delta_t_minus_1</th>\n",
       "      <th>time_delta_t_minus_1</th>\n",
       "      <th>month</th>\n",
       "      <th>age_at_transaction</th>\n",
       "      <th>days_until_card_expires</th>\n",
       "    </tr>\n",
       "  </thead>\n",
       "  <tbody>\n",
       "    <tr>\n",
       "      <th>0</th>\n",
       "      <td>20bdda6375fa1ffa28b680fa2e819b27</td>\n",
       "      <td>2023-04-24 20:18:24</td>\n",
       "      <td>4175202677382064</td>\n",
       "      <td>Grocery</td>\n",
       "      <td>83.99</td>\n",
       "      <td>39.785040</td>\n",
       "      <td>-85.769420</td>\n",
       "      <td>Greenfield</td>\n",
       "      <td>US</td>\n",
       "      <td>0.791870</td>\n",
       "      <td>1.675000</td>\n",
       "      <td>2023-4</td>\n",
       "      <td>45.084693</td>\n",
       "      <td>798.153889</td>\n",
       "    </tr>\n",
       "    <tr>\n",
       "      <th>1</th>\n",
       "      <td>1a84155d6ef055273a5e31574faadf39</td>\n",
       "      <td>2023-04-24 20:26:51</td>\n",
       "      <td>4972349737471042</td>\n",
       "      <td>Grocery</td>\n",
       "      <td>68.39</td>\n",
       "      <td>35.614520</td>\n",
       "      <td>-88.813950</td>\n",
       "      <td>Jackson</td>\n",
       "      <td>US</td>\n",
       "      <td>1.807929</td>\n",
       "      <td>4.414873</td>\n",
       "      <td>2023-4</td>\n",
       "      <td>49.996515</td>\n",
       "      <td>1255.148021</td>\n",
       "    </tr>\n",
       "    <tr>\n",
       "      <th>2</th>\n",
       "      <td>fb60a6ef0487323a777794ee73837320</td>\n",
       "      <td>2023-04-24 20:38:12</td>\n",
       "      <td>4343568566831578</td>\n",
       "      <td>Grocery</td>\n",
       "      <td>67.95</td>\n",
       "      <td>40.659950</td>\n",
       "      <td>-111.996330</td>\n",
       "      <td>Kearns</td>\n",
       "      <td>US</td>\n",
       "      <td>1.430287</td>\n",
       "      <td>1.239641</td>\n",
       "      <td>2023-4</td>\n",
       "      <td>85.019843</td>\n",
       "      <td>1528.140139</td>\n",
       "    </tr>\n",
       "    <tr>\n",
       "      <th>3</th>\n",
       "      <td>f44baa37d3df75acbd83f6ff0b98a5c9</td>\n",
       "      <td>2023-04-24 20:38:14</td>\n",
       "      <td>4205094877256105</td>\n",
       "      <td>Grocery</td>\n",
       "      <td>67.10</td>\n",
       "      <td>47.762320</td>\n",
       "      <td>-122.205400</td>\n",
       "      <td>Bothell</td>\n",
       "      <td>US</td>\n",
       "      <td>2.150129</td>\n",
       "      <td>3.378657</td>\n",
       "      <td>2023-4</td>\n",
       "      <td>51.830934</td>\n",
       "      <td>433.140116</td>\n",
       "    </tr>\n",
       "    <tr>\n",
       "      <th>4</th>\n",
       "      <td>d0dacdca2622701481e232cb598e4b0d</td>\n",
       "      <td>2023-04-24 20:43:20</td>\n",
       "      <td>4176332408257688</td>\n",
       "      <td>Clothing</td>\n",
       "      <td>65.18</td>\n",
       "      <td>30.166880</td>\n",
       "      <td>-96.397740</td>\n",
       "      <td>Brenham</td>\n",
       "      <td>US</td>\n",
       "      <td>1.177476</td>\n",
       "      <td>1.976528</td>\n",
       "      <td>2023-4</td>\n",
       "      <td>22.513435</td>\n",
       "      <td>1528.136574</td>\n",
       "    </tr>\n",
       "    <tr>\n",
       "      <th>...</th>\n",
       "      <td>...</td>\n",
       "      <td>...</td>\n",
       "      <td>...</td>\n",
       "      <td>...</td>\n",
       "      <td>...</td>\n",
       "      <td>...</td>\n",
       "      <td>...</td>\n",
       "      <td>...</td>\n",
       "      <td>...</td>\n",
       "      <td>...</td>\n",
       "      <td>...</td>\n",
       "      <td>...</td>\n",
       "      <td>...</td>\n",
       "      <td>...</td>\n",
       "    </tr>\n",
       "    <tr>\n",
       "      <th>71317</th>\n",
       "      <td>877c7f95fcf37a58e6fd9d9a04171b5d</td>\n",
       "      <td>2023-07-31 20:14:55</td>\n",
       "      <td>4169557131607200</td>\n",
       "      <td>Cash Withdrawal</td>\n",
       "      <td>704.83</td>\n",
       "      <td>39.457010</td>\n",
       "      <td>-77.980960</td>\n",
       "      <td>Martinsburg</td>\n",
       "      <td>US</td>\n",
       "      <td>0.004960</td>\n",
       "      <td>-4.000000</td>\n",
       "      <td>2023-7</td>\n",
       "      <td>90.818685</td>\n",
       "      <td>823.156308</td>\n",
       "    </tr>\n",
       "    <tr>\n",
       "      <th>71318</th>\n",
       "      <td>94ba051c30e554eebccfc57d08682386</td>\n",
       "      <td>2023-07-27 20:14:55</td>\n",
       "      <td>4169557131607200</td>\n",
       "      <td>Cash Withdrawal</td>\n",
       "      <td>50.53</td>\n",
       "      <td>39.461648</td>\n",
       "      <td>-77.990295</td>\n",
       "      <td>Martinsburg</td>\n",
       "      <td>US</td>\n",
       "      <td>0.005862</td>\n",
       "      <td>-4.000000</td>\n",
       "      <td>2023-7</td>\n",
       "      <td>90.807734</td>\n",
       "      <td>827.156308</td>\n",
       "    </tr>\n",
       "    <tr>\n",
       "      <th>71319</th>\n",
       "      <td>cfc5724caa2de3f4190974ef3fcbed10</td>\n",
       "      <td>2023-07-23 20:14:55</td>\n",
       "      <td>4169557131607200</td>\n",
       "      <td>Cash Withdrawal</td>\n",
       "      <td>61.86</td>\n",
       "      <td>39.455896</td>\n",
       "      <td>-77.984271</td>\n",
       "      <td>Martinsburg</td>\n",
       "      <td>US</td>\n",
       "      <td>0.001625</td>\n",
       "      <td>-4.000000</td>\n",
       "      <td>2023-7</td>\n",
       "      <td>90.796782</td>\n",
       "      <td>831.156308</td>\n",
       "    </tr>\n",
       "    <tr>\n",
       "      <th>71320</th>\n",
       "      <td>48a127777c7b275f1eebfa43ad66551b</td>\n",
       "      <td>2023-07-19 20:14:55</td>\n",
       "      <td>4169557131607200</td>\n",
       "      <td>Cash Withdrawal</td>\n",
       "      <td>412.33</td>\n",
       "      <td>39.455715</td>\n",
       "      <td>-77.975533</td>\n",
       "      <td>Martinsburg</td>\n",
       "      <td>US</td>\n",
       "      <td>0.002846</td>\n",
       "      <td>-4.000000</td>\n",
       "      <td>2023-7</td>\n",
       "      <td>90.785830</td>\n",
       "      <td>835.156308</td>\n",
       "    </tr>\n",
       "    <tr>\n",
       "      <th>71321</th>\n",
       "      <td>e289855d52cd2f4e6212d8bcba32a2e4</td>\n",
       "      <td>2023-07-15 20:14:55</td>\n",
       "      <td>4169557131607200</td>\n",
       "      <td>Cash Withdrawal</td>\n",
       "      <td>310.73</td>\n",
       "      <td>39.458440</td>\n",
       "      <td>-77.979951</td>\n",
       "      <td>Martinsburg</td>\n",
       "      <td>US</td>\n",
       "      <td>0.000000</td>\n",
       "      <td>0.000000</td>\n",
       "      <td>2023-7</td>\n",
       "      <td>90.774879</td>\n",
       "      <td>839.156308</td>\n",
       "    </tr>\n",
       "  </tbody>\n",
       "</table>\n",
       "<p>71322 rows × 14 columns</p>\n",
       "</div>"
      ],
      "text/plain": [
       "                                    tid            datetime            cc_num  \\\n",
       "0      20bdda6375fa1ffa28b680fa2e819b27 2023-04-24 20:18:24  4175202677382064   \n",
       "1      1a84155d6ef055273a5e31574faadf39 2023-04-24 20:26:51  4972349737471042   \n",
       "2      fb60a6ef0487323a777794ee73837320 2023-04-24 20:38:12  4343568566831578   \n",
       "3      f44baa37d3df75acbd83f6ff0b98a5c9 2023-04-24 20:38:14  4205094877256105   \n",
       "4      d0dacdca2622701481e232cb598e4b0d 2023-04-24 20:43:20  4176332408257688   \n",
       "...                                 ...                 ...               ...   \n",
       "71317  877c7f95fcf37a58e6fd9d9a04171b5d 2023-07-31 20:14:55  4169557131607200   \n",
       "71318  94ba051c30e554eebccfc57d08682386 2023-07-27 20:14:55  4169557131607200   \n",
       "71319  cfc5724caa2de3f4190974ef3fcbed10 2023-07-23 20:14:55  4169557131607200   \n",
       "71320  48a127777c7b275f1eebfa43ad66551b 2023-07-19 20:14:55  4169557131607200   \n",
       "71321  e289855d52cd2f4e6212d8bcba32a2e4 2023-07-15 20:14:55  4169557131607200   \n",
       "\n",
       "              category  amount   latitude   longitude         city country  \\\n",
       "0              Grocery   83.99  39.785040  -85.769420   Greenfield      US   \n",
       "1              Grocery   68.39  35.614520  -88.813950      Jackson      US   \n",
       "2              Grocery   67.95  40.659950 -111.996330       Kearns      US   \n",
       "3              Grocery   67.10  47.762320 -122.205400      Bothell      US   \n",
       "4             Clothing   65.18  30.166880  -96.397740      Brenham      US   \n",
       "...                ...     ...        ...         ...          ...     ...   \n",
       "71317  Cash Withdrawal  704.83  39.457010  -77.980960  Martinsburg      US   \n",
       "71318  Cash Withdrawal   50.53  39.461648  -77.990295  Martinsburg      US   \n",
       "71319  Cash Withdrawal   61.86  39.455896  -77.984271  Martinsburg      US   \n",
       "71320  Cash Withdrawal  412.33  39.455715  -77.975533  Martinsburg      US   \n",
       "71321  Cash Withdrawal  310.73  39.458440  -77.979951  Martinsburg      US   \n",
       "\n",
       "       loc_delta_t_minus_1  time_delta_t_minus_1   month  age_at_transaction  \\\n",
       "0                 0.791870              1.675000  2023-4           45.084693   \n",
       "1                 1.807929              4.414873  2023-4           49.996515   \n",
       "2                 1.430287              1.239641  2023-4           85.019843   \n",
       "3                 2.150129              3.378657  2023-4           51.830934   \n",
       "4                 1.177476              1.976528  2023-4           22.513435   \n",
       "...                    ...                   ...     ...                 ...   \n",
       "71317             0.004960             -4.000000  2023-7           90.818685   \n",
       "71318             0.005862             -4.000000  2023-7           90.807734   \n",
       "71319             0.001625             -4.000000  2023-7           90.796782   \n",
       "71320             0.002846             -4.000000  2023-7           90.785830   \n",
       "71321             0.000000              0.000000  2023-7           90.774879   \n",
       "\n",
       "       days_until_card_expires  \n",
       "0                   798.153889  \n",
       "1                  1255.148021  \n",
       "2                  1528.140139  \n",
       "3                   433.140116  \n",
       "4                  1528.136574  \n",
       "...                        ...  \n",
       "71317               823.156308  \n",
       "71318               827.156308  \n",
       "71319               831.156308  \n",
       "71320               835.156308  \n",
       "71321               839.156308  \n",
       "\n",
       "[71322 rows x 14 columns]"
      ]
     },
     "execution_count": 28,
     "metadata": {},
     "output_type": "execute_result"
    }
   ],
   "source": [
    "trans_df"
   ]
  },
  {
   "cell_type": "code",
   "execution_count": 16,
   "id": "fe81cb44",
   "metadata": {},
   "outputs": [],
   "source": [
    "# get or create feature group\n",
    "labels_fg = fs.get_or_create_feature_group(\n",
    "    name=\"fraud_labels\",\n",
    "    version=1,\n",
    "    description=\"Transaction data\",\n",
    "    primary_key=['cc_num'],\n",
    "    event_time='datetime',\n",
    "    partition_key=['month'],\n",
    "    stream=True,\n",
    "    online_enabled=True\n",
    ")"
   ]
  },
  {
   "cell_type": "code",
   "execution_count": 17,
   "id": "0d8424e6",
   "metadata": {},
   "outputs": [
    {
     "name": "stdout",
     "output_type": "stream",
     "text": [
      "Feature Group created successfully, explore it at \n",
      "https://63fce2f0-6ea9-11ee-94f8-f759e1f32264.cloud.hopsworks.ai/p/119/fs/67/fg/14\n"
     ]
    },
    {
     "data": {
      "application/vnd.jupyter.widget-view+json": {
       "model_id": "8ee23019fab34ea1b53a37f4824967e6",
       "version_major": 2,
       "version_minor": 0
      },
      "text/plain": [
       "Uploading Dataframe: 0.00% |          | Rows 0/71323 | Elapsed Time: 00:00 | Remaining Time: ?"
      ]
     },
     "metadata": {},
     "output_type": "display_data"
    },
    {
     "name": "stdout",
     "output_type": "stream",
     "text": [
      "Launching job: fraud_labels_1_offline_fg_materialization\n",
      "Job started successfully, you can follow the progress at \n",
      "https://63fce2f0-6ea9-11ee-94f8-f759e1f32264.cloud.hopsworks.ai/p/119/jobs/named/fraud_labels_1_offline_fg_materialization/executions\n"
     ]
    },
    {
     "data": {
      "text/plain": [
       "(<hsfs.core.job.Job at 0x7fb9dc73cfd0>, None)"
      ]
     },
     "execution_count": 17,
     "metadata": {},
     "output_type": "execute_result"
    }
   ],
   "source": [
    "# materialize feature data in to the feature group\n",
    "labels_fg.insert(labels_df)"
   ]
  },
  {
   "cell_type": "markdown",
   "id": "a6d46f0a",
   "metadata": {},
   "source": [
    "You can move on and do the same thing for the profile and label feature groups."
   ]
  },
  {
   "cell_type": "code",
   "execution_count": 22,
   "id": "015dbe2c",
   "metadata": {},
   "outputs": [],
   "source": [
    "# get or create feature group\n",
    "profile_fg = fs.get_or_create_feature_group(\n",
    "    name=\"profile\",\n",
    "    version=1,\n",
    "    description=\"Credit card holder demographic data\",\n",
    "    primary_key=[\"cc_num\"],\n",
    "    partition_key=[\"cc_provider\"],\n",
    "    stream=True,\n",
    "    online_enabled=True\n",
    ")\n"
   ]
  },
  {
   "cell_type": "code",
   "execution_count": 23,
   "id": "751ac242",
   "metadata": {},
   "outputs": [
    {
     "name": "stdout",
     "output_type": "stream",
     "text": [
      "Feature Group created successfully, explore it at \n",
      "https://63fce2f0-6ea9-11ee-94f8-f759e1f32264.cloud.hopsworks.ai/p/119/fs/67/fg/15\n"
     ]
    },
    {
     "data": {
      "application/vnd.jupyter.widget-view+json": {
       "model_id": "1ff0110c3e0d4e0eabe1e78ba72c5ebb",
       "version_major": 2,
       "version_minor": 0
      },
      "text/plain": [
       "Uploading Dataframe: 0.00% |          | Rows 0/1000 | Elapsed Time: 00:00 | Remaining Time: ?"
      ]
     },
     "metadata": {},
     "output_type": "display_data"
    },
    {
     "name": "stdout",
     "output_type": "stream",
     "text": [
      "Launching job: profile_1_offline_fg_materialization\n",
      "Job started successfully, you can follow the progress at \n",
      "https://63fce2f0-6ea9-11ee-94f8-f759e1f32264.cloud.hopsworks.ai/p/119/jobs/named/profile_1_offline_fg_materialization/executions\n"
     ]
    },
    {
     "data": {
      "text/plain": [
       "(<hsfs.core.job.Job at 0x7fb9d99c97b0>, None)"
      ]
     },
     "execution_count": 23,
     "metadata": {},
     "output_type": "execute_result"
    }
   ],
   "source": [
    "# materialize feature data in to the feature group\n",
    "profile_fg.insert(profiles_df)"
   ]
  },
  {
   "cell_type": "code",
   "execution_count": 25,
   "id": "ec7704e9",
   "metadata": {},
   "outputs": [],
   "source": [
    "feature_descriptions = [\n",
    "    {\"name\": \"cc_num\", \"description\": \"Number of the credit card performing the transaction\"},\n",
    "    {\"name\": \"cc_provider\", \"description\": \"Company name that issued the card\"},\n",
    "    {\"name\": \"cc_type\", \"description\": \"Type of the card, debit or credit\"},\n",
    "    {\"name\": \"cc_expiration_date\", \"description\": \"Date when this card expires\"},    \n",
    "    {\"name\": \"birthdate\", \"description\": \"Birth date\"},\n",
    "    {\"name\": \"country_of_residence\", \"description\": \"Country of residence of the card holder\"},    \n",
    "]\n",
    "\n",
    "for desc in feature_descriptions: \n",
    "    profile_fg.update_feature_description(desc[\"name\"], desc[\"description\"])"
   ]
  },
  {
   "cell_type": "markdown",
   "id": "aff94246",
   "metadata": {},
   "source": [
    "Click on the hyperlink printed in the cell output above to inspect your feature group in the UI."
   ]
  },
  {
   "cell_type": "markdown",
   "id": "8689ad7d",
   "metadata": {
    "jp-MarkdownHeadingCollapsed": true,
    "tags": []
   },
   "source": [
    "### <span style=\"color:#ff5f27;\"> 👓  Exploration</span>\n",
    "In the Hopsworks feature store, the metadata allows for multiple levels of explorations and review. Here you will explore a few of those capacities. \n",
    "\n",
    "### <span style=\"color:#ff5f27;\"> 🔎 Search</span>\n",
    "Using the search function in the UI, you can query any aspect of the feature groups, feature_view and training data that was previously created.\n",
    "\n",
    "### <span style=\"color:#ff5f27;\"> 📊 Statistics</span>\n",
    "You can also enable statistics in one or all the feature groups."
   ]
  },
  {
   "cell_type": "code",
   "execution_count": 26,
   "id": "5d953f59",
   "metadata": {},
   "outputs": [
    {
     "name": "stdout",
     "output_type": "stream",
     "text": [
      "Statistics Job started successfully, you can follow the progress at \n",
      "https://63fce2f0-6ea9-11ee-94f8-f759e1f32264.cloud.hopsworks.ai/p/119/jobs/named/transactions_1_compute_stats_21102023203443/executions\n"
     ]
    }
   ],
   "source": [
    "trans_fg = fs.get_or_create_feature_group(\"transactions\", version=1)\n",
    "trans_fg.statistics_config = {\n",
    "    \"enabled\": True,\n",
    "    \"histograms\": True,\n",
    "    \"correlations\": True\n",
    "}\n",
    "\n",
    "trans_fg.update_statistics_config()\n",
    "trans_fg.compute_statistics()"
   ]
  },
  {
   "cell_type": "markdown",
   "id": "4b887800",
   "metadata": {
    "jp-MarkdownHeadingCollapsed": true,
    "tags": []
   },
   "source": [
    "### ⛓️ <b> Lineage </b> \n",
    "In all the feature groups and feature view you can look at the relation between each abstractions; what feature group created which training dataset and that is used in which model.\n",
    "This allows for a clear undestanding of the pipeline in relation to each element. "
   ]
  }
 ],
 "metadata": {
  "interpreter": {
   "hash": "e1ddeae6eefc765c17da80d38ea59b893ab18c0c0904077a035ef84cfe367f83"
  },
  "kernelspec": {
   "display_name": "Python",
   "language": "python",
   "name": "python3"
  },
  "language_info": {
   "codemirror_mode": {
    "name": "ipython",
    "version": 3
   },
   "file_extension": ".py",
   "mimetype": "text/x-python",
   "name": "python",
   "nbconvert_exporter": "python",
   "pygments_lexer": "ipython3",
   "version": "3.10.11"
  }
 },
 "nbformat": 4,
 "nbformat_minor": 5
}